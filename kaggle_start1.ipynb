{
  "nbformat": 4,
  "nbformat_minor": 0,
  "metadata": {
    "colab": {
      "name": "kaggle-start1.ipynb",
      "provenance": [],
      "collapsed_sections": [],
      "authorship_tag": "ABX9TyMKVmFsP7zihX5GlbB8R7X7",
      "include_colab_link": true
    },
    "kernelspec": {
      "name": "python3",
      "display_name": "Python 3"
    }
  },
  "cells": [
    {
      "cell_type": "markdown",
      "metadata": {
        "id": "view-in-github",
        "colab_type": "text"
      },
      "source": [
        "<a href=\"https://colab.research.google.com/github/k-washi/kaggle-start-1/blob/main/kaggle_start1.ipynb\" target=\"_parent\"><img src=\"https://colab.research.google.com/assets/colab-badge.svg\" alt=\"Open In Colab\"/></a>"
      ]
    },
    {
      "cell_type": "code",
      "metadata": {
        "colab": {
          "base_uri": "https://localhost:8080/"
        },
        "id": "0MOUhT-1YuCy",
        "outputId": "f4cf08de-6ea9-4c25-cdaa-d416ea0b4248"
      },
      "source": [
        "from googleapiclient.discovery import build\n",
        "import io, os\n",
        "from googleapiclient.http import MediaIoBaseDownload\n",
        "from google.colab import auth\n",
        "\n",
        "auth.authenticate_user()\n",
        "\n",
        "drive_service = build('drive', 'v3')\n",
        "results = drive_service.files().list(\n",
        "        q=\"name = 'kaggle.json'\", fields=\"files(id)\").execute()\n",
        "kaggle_api_key = results.get('files', [])\n",
        "\n",
        "filename = \"/root/.kaggle/kaggle.json\"\n",
        "os.makedirs(os.path.dirname(filename), exist_ok=True)\n",
        "\n",
        "request = drive_service.files().get_media(fileId=kaggle_api_key[0]['id'])\n",
        "fh = io.FileIO(filename, 'wb')\n",
        "downloader = MediaIoBaseDownload(fh, request)\n",
        "done = False\n",
        "while done is False:\n",
        "    status, done = downloader.next_chunk()\n",
        "    print(\"Download %d%%.\" % int(status.progress() * 100))\n",
        "os.chmod(filename, 600)"
      ],
      "execution_count": 4,
      "outputs": [
        {
          "output_type": "stream",
          "text": [
            "Download 100%.\n"
          ],
          "name": "stdout"
        }
      ]
    },
    {
      "cell_type": "code",
      "metadata": {
        "colab": {
          "base_uri": "https://localhost:8080/"
        },
        "id": "dHE7G2cXclwo",
        "outputId": "82e12698-32f5-4136-88c4-2453c45670c6"
      },
      "source": [
        "!kaggle competitions list"
      ],
      "execution_count": 6,
      "outputs": [
        {
          "output_type": "stream",
          "text": [
            "Warning: Looks like you're using an outdated API Version, please consider updating (server 1.5.10 / client 1.5.4)\n",
            "ref                                            deadline             category            reward  teamCount  userHasEntered  \n",
            "---------------------------------------------  -------------------  ---------------  ---------  ---------  --------------  \n",
            "contradictory-my-dear-watson                   2030-07-01 23:59:00  Getting Started     Prizes         96           False  \n",
            "gan-getting-started                            2030-07-01 23:59:00  Getting Started     Prizes        202           False  \n",
            "tpu-getting-started                            2030-06-03 23:59:00  Getting Started  Knowledge        365           False  \n",
            "digit-recognizer                               2030-01-01 00:00:00  Getting Started  Knowledge       2548           False  \n",
            "titanic                                        2030-01-01 00:00:00  Getting Started  Knowledge      19776            True  \n",
            "house-prices-advanced-regression-techniques    2030-01-01 00:00:00  Getting Started  Knowledge       5225            True  \n",
            "connectx                                       2030-01-01 00:00:00  Getting Started  Knowledge        463           False  \n",
            "nlp-getting-started                            2030-01-01 00:00:00  Getting Started  Knowledge       1368           False  \n",
            "competitive-data-science-predict-future-sales  2022-12-31 23:59:00  Playground           Kudos      10079            True  \n",
            "vinbigdata-chest-xray-abnormalities-detection  2021-03-30 23:59:00  Featured           $50,000        187           False  \n",
            "hubmap-kidney-segmentation                     2021-03-25 23:59:00  Research           $60,000        818           False  \n",
            "ranzcr-clip-catheter-line-classification       2021-03-15 23:59:00  Featured           $50,000        456           False  \n",
            "jane-street-market-prediction                  2021-02-22 23:59:00  Featured          $100,000       2157           False  \n",
            "cassava-leaf-disease-classification            2021-02-18 23:59:00  Research           $18,000       2450           False  \n",
            "rfcx-species-audio-detection                   2021-02-17 23:59:00  Research           $15,000        749           False  \n",
            "acea-water-prediction                          2021-02-17 23:59:00  Analytics          $25,000          0           False  \n",
            "rock-paper-scissors                            2021-02-01 23:59:00  Playground          Prizes       1416           False  \n",
            "santa-2020                                     2021-02-01 23:59:00  Featured            Prizes        666           False  \n",
            "tabular-playground-series-jan-2021             2021-01-31 23:59:00  Playground            Swag        613           False  \n",
            "nfl-big-data-bowl-2021                         2021-01-07 23:59:00  Analytics         $100,000          0           False  \n"
          ],
          "name": "stdout"
        }
      ]
    },
    {
      "cell_type": "code",
      "metadata": {
        "id": "IXemAjibYys-"
      },
      "source": [
        ""
      ],
      "execution_count": null,
      "outputs": []
    }
  ]
}